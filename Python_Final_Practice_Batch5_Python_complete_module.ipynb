{
 "cells": [
  {
   "cell_type": "markdown",
   "metadata": {
    "id": "S6aX5GSQkdqk"
   },
   "source": [
    "# NED University of Engineering & Technology\n",
    "# NED Academy\n",
    "#  PGD Batch 5 Data Science Final Exam (Online & Hybrid Mode Students)"
   ]
  },
  {
   "cell_type": "markdown",
   "metadata": {
    "id": "n-FwP1uqkdqm"
   },
   "source": [
    "### Note: must Replace CNIC and Name\n",
    "\n",
    "Example:<br>\n",
    "    \n",
    "Midterm_4250153822881_Anwar_Siraj"
   ]
  },
  {
   "cell_type": "markdown",
   "metadata": {
    "id": "tKlgjyHskdqm"
   },
   "source": [
    "### Final Exame tips:\n",
    "* Paper timing: 3 Hours\n",
    "* Total Questions 20 you have to attempt all below tasks\n",
    "    * 5 questions are theoritical\n",
    "    * 15 are practical tasks\n",
    "* you can use any logic to achieve below tasks results\n",
    "* there is not any negative marking\n"
   ]
  },
  {
   "cell_type": "markdown",
   "metadata": {
    "id": "cjZv9K1ukdqm"
   },
   "source": [
    "## Task1:\n",
    "    Names: Store the names of a few of your friends in a list called `names`. Print each person’s name and index number each element in the list, one at a time.\n",
    "    \n",
    "```\n",
    "Expected output:\n",
    "\n",
    "['Qasim','Hamza','Asif']\n",
    "\n",
    "0 , Qasim\n",
    "1 , Hamza\n",
    "2 , Asif\n",
    "```\n",
    "\n",
    "#### hint: enu...te()"
   ]
  },
  {
   "cell_type": "code",
   "execution_count": 1,
   "metadata": {
    "id": "Z_Uyb_fOkdqm"
   },
   "outputs": [
    {
     "name": "stdout",
     "output_type": "stream",
     "text": [
      "0 , Qasim\n",
      "1 , Masood\n",
      "2 , Farhan\n"
     ]
    }
   ],
   "source": [
    "lst=[\"Qasim\",\"Masood\",\"Farhan\"]\n",
    "for i in range(0,len(lst)):\n",
    "    print(i,\",\",lst[i])"
   ]
  },
  {
   "cell_type": "markdown",
   "metadata": {
    "id": "LT5Bxr3Ykdqn"
   },
   "source": [
    "## Task2:\n",
    "Store your 3 friends names in `names` list<br>\n",
    "Store three messages in `messages` list<br>\n",
    "then print each friend and message from friends and messages lists\n",
    "    \n",
    "```\n",
    "Expected output:\n",
    "\n",
    "['Qasim','Hamza','Asif']\n",
    "['Welcome Dear Teacher','Charter Accountant',\"Good job Admin\"]\n",
    "\n",
    "'Qasim, Welcome Dear Teacher'\n",
    "'Hamza, Charter Accountant'\n",
    "'Asif, Good job Admin'\n",
    "\n",
    "```\n",
    "\n",
    "#### hint: z..p()"
   ]
  },
  {
   "cell_type": "code",
   "execution_count": 2,
   "metadata": {
    "id": "i7DE3ggmkdqn"
   },
   "outputs": [
    {
     "name": "stdout",
     "output_type": "stream",
     "text": [
      "Qasim, Welcome Dear Teacher\n",
      "Hamza, Chartered Accountant\n",
      "Asif, Good job Admin\n"
     ]
    }
   ],
   "source": [
    "# Create lists for friends' names and messages\n",
    "names = ['Qasim', 'Hamza', 'Asif']\n",
    "messages = ['Welcome Dear Teacher', 'Chartered Accountant', 'Good job Admin']\n",
    "\n",
    "# Use zip() to iterate through both lists simultaneously and print the output\n",
    "for name, message in zip(names, messages):\n",
    "    print(f'{name}, {message}')"
   ]
  },
  {
   "cell_type": "markdown",
   "metadata": {
    "id": "qJpfb8ulkdqn"
   },
   "source": [
    "### Task3:\n",
    "Guest List: If you could invite anyone, living or deceased, to dinner, who would you invite? Make a list that includes at least three people you’d like to invite to dinner. Then use your list to print a message to each person, inviting them to dinner."
   ]
  },
  {
   "cell_type": "code",
   "execution_count": 3,
   "metadata": {
    "id": "EgKs-pbKkdqo"
   },
   "outputs": [
    {
     "name": "stdout",
     "output_type": "stream",
     "text": [
      "Dear Albert Einstein,\n",
      "You are cordially invited to a dinner at my place.\n",
      "Please join us for an evening of great food and conversation.\n",
      "Date: September 20, 2023\n",
      "Time: 7:00 PM\n",
      "Location: 123 Main Street\n",
      "Please RSVP at your earliest convenience.\n",
      "Sincerely, Your Host\n",
      "\n",
      "Dear Leonardo da Vinci,\n",
      "You are cordially invited to a dinner at my place.\n",
      "Please join us for an evening of great food and conversation.\n",
      "Date: September 20, 2023\n",
      "Time: 7:00 PM\n",
      "Location: 123 Main Street\n",
      "Please RSVP at your earliest convenience.\n",
      "Sincerely, Your Host\n",
      "\n",
      "Dear Marie Curie,\n",
      "You are cordially invited to a dinner at my place.\n",
      "Please join us for an evening of great food and conversation.\n",
      "Date: September 20, 2023\n",
      "Time: 7:00 PM\n",
      "Location: 123 Main Street\n",
      "Please RSVP at your earliest convenience.\n",
      "Sincerely, Your Host\n",
      "\n"
     ]
    }
   ],
   "source": [
    "# Create a list of people to invite to dinner\n",
    "guest_list = [\"Albert Einstein\", \"Leonardo da Vinci\", \"Marie Curie\"]\n",
    "\n",
    "# Print invitation messages\n",
    "for guest in guest_list:\n",
    "    print(f\"Dear {guest},\")\n",
    "    print(\"You are cordially invited to a dinner at my place.\")\n",
    "    print(\"Please join us for an evening of great food and conversation.\")\n",
    "    print(\"Date: September 20, 2023\")\n",
    "    print(\"Time: 7:00 PM\")\n",
    "    print(\"Location: 123 Main Street\")\n",
    "    print(\"Please RSVP at your earliest convenience.\")\n",
    "    print(\"Sincerely, Your Host\\n\")"
   ]
  },
  {
   "cell_type": "markdown",
   "metadata": {
    "id": "jCd22z68kdqo"
   },
   "source": [
    "### Task4:\n",
    "Changing Guest List: You just heard that one of your guests can’t make the dinner, so you need to send out a new set of invitations. You’ll have to think of someone else to invite.\n",
    "\n",
    "* Start with your program from Task 3. Add a print statement at the end of your program stating the name of the guest who can’t make it.\n",
    "\n",
    "* Modify your list, replacing the name of the guest who can’t make it with the name of the new person you are inviting.\n",
    "\n",
    "* Print a second set of invitation messages, one for each person who is still in your list."
   ]
  },
  {
   "cell_type": "code",
   "execution_count": 5,
   "metadata": {
    "id": "PkopbwMTkdqo"
   },
   "outputs": [
    {
     "name": "stdout",
     "output_type": "stream",
     "text": [
      "Marie Curie can't make it to the dinner.\n",
      "\n",
      "Dear Albert Einstein,\n",
      "You are cordially invited to a dinner at my place.\n",
      "Please join us for an evening of great food and conversation.\n",
      "Date: September 20, 2023\n",
      "Time: 7:00 PM\n",
      "Location: 123 Main Street\n",
      "Please RSVP at your earliest convenience.\n",
      "Sincerely, Your Host\n",
      "\n",
      "Dear Leonardo da Vinci,\n",
      "You are cordially invited to a dinner at my place.\n",
      "Please join us for an evening of great food and conversation.\n",
      "Date: September 20, 2023\n",
      "Time: 7:00 PM\n",
      "Location: 123 Main Street\n",
      "Please RSVP at your earliest convenience.\n",
      "Sincerely, Your Host\n",
      "\n",
      "Dear Isaac Newton,\n",
      "You are cordially invited to a dinner at my place.\n",
      "Please join us for an evening of great food and conversation.\n",
      "Date: September 20, 2023\n",
      "Time: 7:00 PM\n",
      "Location: 123 Main Street\n",
      "Please RSVP at your earliest convenience.\n",
      "Sincerely, Your Host\n",
      "\n"
     ]
    }
   ],
   "source": [
    "# Create a list of people to invite to dinner\n",
    "guest_list = [\"Albert Einstein\", \"Leonardo da Vinci\", \"Marie Curie\"]\n",
    "\n",
    "# Print invitation messages for the initial guest list\n",
    "def print_invitations(guest_list):\n",
    "    for guest in guest_list:\n",
    "        print(f\"Dear {guest},\")\n",
    "        print(\"You are cordially invited to a dinner at my place.\")\n",
    "        print(\"Please join us for an evening of great food and conversation.\")\n",
    "        print(\"Date: September 20, 2023\")\n",
    "        print(\"Time: 7:00 PM\")\n",
    "        print(\"Location: 123 Main Street\")\n",
    "        print(\"Please RSVP at your earliest convenience.\")\n",
    "        print(\"Sincerely, Your Host\\n\")\n",
    "\n",
    "# Name of the guest who can't make it\n",
    "guest_cant_make_it = \"Marie Curie\"\n",
    "\n",
    "# Print a message about the guest who can't make it\n",
    "print(f\"{guest_cant_make_it} can't make it to the dinner.\\n\")\n",
    "\n",
    "# Replace the guest who can't make it with a new guest\n",
    "new_guest = \"Isaac Newton\"\n",
    "guest_list.remove(guest_cant_make_it)\n",
    "guest_list.append(new_guest)\n",
    "\n",
    "# Print invitation messages for the updated guest list\n",
    "print_invitations(guest_list)"
   ]
  },
  {
   "cell_type": "markdown",
   "metadata": {
    "id": "yaqsH8skkdqo"
   },
   "source": [
    "### Task5:\n",
    "More Guests: You just found a bigger dinner table, so now more space is available. Think of three more guests to invite to dinner.\n",
    "* Start with your program from task4. Add a print statement to the end of your program informing people that you found a bigger dinner table.\n",
    "* Add one new guest to the beginning of your array(list).\n",
    "\n",
    "* Add one new guest to the middle of your array.\n",
    "* Use append() to add one new guest to the end of your list.\n",
    "* Print a new set of invitation messages, one for each person in your list."
   ]
  },
  {
   "cell_type": "code",
   "execution_count": 6,
   "metadata": {
    "id": "G4XTS-MGkdqo"
   },
   "outputs": [
    {
     "name": "stdout",
     "output_type": "stream",
     "text": [
      "Marie Curie can't make it to the dinner.\n",
      "\n",
      "Great news! We found a bigger dinner table.\n",
      "\n",
      "Dear Ada Lovelace,\n",
      "You are cordially invited to a dinner at my place.\n",
      "Please join us for an evening of great food and conversation.\n",
      "Date: September 20, 2023\n",
      "Time: 7:00 PM\n",
      "Location: 123 Main Street\n",
      "Please RSVP at your earliest convenience.\n",
      "Sincerely, Your Host\n",
      "\n",
      "Dear Albert Einstein,\n",
      "You are cordially invited to a dinner at my place.\n",
      "Please join us for an evening of great food and conversation.\n",
      "Date: September 20, 2023\n",
      "Time: 7:00 PM\n",
      "Location: 123 Main Street\n",
      "Please RSVP at your earliest convenience.\n",
      "Sincerely, Your Host\n",
      "\n",
      "Dear Galileo Galilei,\n",
      "You are cordially invited to a dinner at my place.\n",
      "Please join us for an evening of great food and conversation.\n",
      "Date: September 20, 2023\n",
      "Time: 7:00 PM\n",
      "Location: 123 Main Street\n",
      "Please RSVP at your earliest convenience.\n",
      "Sincerely, Your Host\n",
      "\n",
      "Dear Leonardo da Vinci,\n",
      "You are cordially invited to a dinner at my place.\n",
      "Please join us for an evening of great food and conversation.\n",
      "Date: September 20, 2023\n",
      "Time: 7:00 PM\n",
      "Location: 123 Main Street\n",
      "Please RSVP at your earliest convenience.\n",
      "Sincerely, Your Host\n",
      "\n",
      "Dear Isaac Newton,\n",
      "You are cordially invited to a dinner at my place.\n",
      "Please join us for an evening of great food and conversation.\n",
      "Date: September 20, 2023\n",
      "Time: 7:00 PM\n",
      "Location: 123 Main Street\n",
      "Please RSVP at your earliest convenience.\n",
      "Sincerely, Your Host\n",
      "\n",
      "Dear Nikola Tesla,\n",
      "You are cordially invited to a dinner at my place.\n",
      "Please join us for an evening of great food and conversation.\n",
      "Date: September 20, 2023\n",
      "Time: 7:00 PM\n",
      "Location: 123 Main Street\n",
      "Please RSVP at your earliest convenience.\n",
      "Sincerely, Your Host\n",
      "\n",
      "Dear Grace Hopper,\n",
      "You are cordially invited to a dinner at my place.\n",
      "Please join us for an evening of great food and conversation.\n",
      "Date: September 20, 2023\n",
      "Time: 7:00 PM\n",
      "Location: 123 Main Street\n",
      "Please RSVP at your earliest convenience.\n",
      "Sincerely, Your Host\n",
      "\n"
     ]
    }
   ],
   "source": [
    "# Create a list of people to invite to dinner\n",
    "guest_list = [\"Albert Einstein\", \"Leonardo da Vinci\", \"Marie Curie\", \"Isaac Newton\"]\n",
    "\n",
    "# Print invitation messages for the current guest list\n",
    "def print_invitations(guest_list):\n",
    "    for guest in guest_list:\n",
    "        print(f\"Dear {guest},\")\n",
    "        print(\"You are cordially invited to a dinner at my place.\")\n",
    "        print(\"Please join us for an evening of great food and conversation.\")\n",
    "        print(\"Date: September 20, 2023\")\n",
    "        print(\"Time: 7:00 PM\")\n",
    "        print(\"Location: 123 Main Street\")\n",
    "        print(\"Please RSVP at your earliest convenience.\")\n",
    "        print(\"Sincerely, Your Host\\n\")\n",
    "\n",
    "# Name of the guest who can't make it\n",
    "guest_cant_make_it = \"Marie Curie\"\n",
    "\n",
    "# Print a message about the guest who can't make it\n",
    "print(f\"{guest_cant_make_it} can't make it to the dinner.\\n\")\n",
    "\n",
    "# Replace the guest who can't make it with a new guest\n",
    "new_guest = \"Nikola Tesla\"\n",
    "guest_list.remove(guest_cant_make_it)\n",
    "guest_list.append(new_guest)\n",
    "\n",
    "# Inform about the bigger dinner table\n",
    "print(\"Great news! We found a bigger dinner table.\\n\")\n",
    "\n",
    "# Add three more guests\n",
    "new_guests = [\"Ada Lovelace\", \"Galileo Galilei\", \"Grace Hopper\"]\n",
    "guest_list.insert(0, new_guests[0])  # Add to the beginning\n",
    "guest_list.insert(len(guest_list) // 2, new_guests[1])  # Add to the middle\n",
    "guest_list.append(new_guests[2])  # Add to the end\n",
    "\n",
    "# Print invitation messages for the updated guest list\n",
    "print_invitations(guest_list)"
   ]
  },
  {
   "cell_type": "markdown",
   "metadata": {
    "id": "9Qz28Az2kdqo"
   },
   "source": [
    "### Task6:\n",
    "Intentional Error: If you haven’t received an array index error in one of your programs yet, try to make one happen. Change an index in one of your programs to produce an index error. Make sure you correct the error before closing the program.    "
   ]
  },
  {
   "cell_type": "code",
   "execution_count": 7,
   "metadata": {
    "id": "g4kclHaBkdqo"
   },
   "outputs": [
    {
     "name": "stdout",
     "output_type": "stream",
     "text": [
      "IndexError: list index out of range\n",
      "Program execution completed.\n"
     ]
    }
   ],
   "source": [
    "my_list = [1, 2, 3, 4, 5]\n",
    "\n",
    "try:\n",
    "    # Trying to access an element at an index that doesn't exist\n",
    "    print(my_list[10])\n",
    "except IndexError as e:\n",
    "    # Handling the IndexError and printing an error message\n",
    "    print(f\"IndexError: {e}\")\n",
    "finally:\n",
    "    # This block will execute regardless of whether an error occurred or not\n",
    "    print(\"Program execution completed.\")"
   ]
  },
  {
   "cell_type": "markdown",
   "metadata": {
    "id": "QiZ5xXYvkdqo"
   },
   "source": [
    "### Task7\n",
    "Conditional Tests: Write a series of conditional tests. Print a statement describing each test and your prediction for the results of each test. Your code should look something like this:\n",
    "\n",
    "```\n",
    "car = 'BMW'\n",
    "print(\"Is car == 'BMW'? I predict True.\")\n",
    "print(car == 'subaru')\n",
    "```\n",
    "\n",
    "* Look closely at your results, and make sure you understand why each line evaluates to True or False.\n",
    "\n",
    "* Create at least 10 tests. Have at least 5 tests evaluate to True and another 5 tests evaluate to False.\n",
    "\n",
    "\n",
    "    "
   ]
  },
  {
   "cell_type": "code",
   "execution_count": 8,
   "metadata": {
    "id": "btdrROrokdqp"
   },
   "outputs": [
    {
     "name": "stdout",
     "output_type": "stream",
     "text": [
      "Is car == 'BMW'? I predict True.\n",
      "True\n",
      "\n",
      "Is car == 'BMW'? I predict False.\n",
      "False\n",
      "\n",
      "Is number > 10? I predict True.\n",
      "True\n",
      "\n",
      "Is number <= 5? I predict True.\n",
      "True\n",
      "\n",
      "Does 'Hello' exist in the message? I predict True.\n",
      "True\n",
      "\n",
      "Is my_list empty? I predict True.\n",
      "True\n",
      "\n",
      "Are text1 and text2 equal? I predict False.\n",
      "False\n",
      "\n",
      "Is number divisible by 2 and 3? I predict True.\n",
      "True\n",
      "\n",
      "Is value not None? I predict False.\n",
      "False\n",
      "\n",
      "Is char a vowel (a, e, i, o, u)? I predict True.\n",
      "True\n"
     ]
    }
   ],
   "source": [
    "# Test 1: Checking if a car is 'BMW'\n",
    "car = 'BMW'\n",
    "print(\"Is car == 'BMW'? I predict True.\")\n",
    "print(car == 'BMW')\n",
    "\n",
    "# Test 2: Checking if a car is 'Mercedes'\n",
    "car = 'Mercedes'\n",
    "print(\"\\nIs car == 'BMW'? I predict False.\")\n",
    "print(car == 'BMW')\n",
    "\n",
    "# Test 3: Checking if a number is greater than 10\n",
    "number = 15\n",
    "print(\"\\nIs number > 10? I predict True.\")\n",
    "print(number > 10)\n",
    "\n",
    "# Test 4: Checking if a number is less than or equal to 5\n",
    "number = 3\n",
    "print(\"\\nIs number <= 5? I predict True.\")\n",
    "print(number <= 5)\n",
    "\n",
    "# Test 5: Checking if a string contains a specific substring\n",
    "message = \"Hello, World!\"\n",
    "print(\"\\nDoes 'Hello' exist in the message? I predict True.\")\n",
    "print('Hello' in message)\n",
    "\n",
    "# Test 6: Checking if a list is empty\n",
    "my_list = []\n",
    "print(\"\\nIs my_list empty? I predict True.\")\n",
    "print(not my_list)  # Using \"not\" to check if it's empty\n",
    "\n",
    "# Test 7: Checking if two strings are equal (case-sensitive)\n",
    "text1 = 'Hello'\n",
    "text2 = 'hello'\n",
    "print(\"\\nAre text1 and text2 equal? I predict False.\")\n",
    "print(text1 == text2)\n",
    "\n",
    "# Test 8: Checking if a number is divisible by 2 and 3\n",
    "number = 12\n",
    "print(\"\\nIs number divisible by 2 and 3? I predict True.\")\n",
    "print(number % 2 == 0 and number % 3 == 0)\n",
    "\n",
    "# Test 9: Checking if a variable is not None\n",
    "value = None\n",
    "print(\"\\nIs value not None? I predict False.\")\n",
    "print(value is not None)\n",
    "\n",
    "# Test 10: Checking if a character is a vowel\n",
    "char = 'a'\n",
    "print(\"\\nIs char a vowel (a, e, i, o, u)? I predict True.\")\n",
    "print(char in 'aeiou')"
   ]
  },
  {
   "cell_type": "markdown",
   "metadata": {
    "id": "F55eQzTskdqp"
   },
   "source": [
    "### Task8:\n",
    "More Conditional Tests: You don’t have to limit the number of tests you create to 10. If you want to try more comparisons, write more tests. Have at least one True and one False result for each of the following:\n",
    "\n",
    "* Tests for equality and inequality with strings\n",
    "\n",
    "* Tests using the lower case function\n",
    "\n",
    "* Numerical tests involving equality and inequality, greater than and less than, greater than or equal to, and less than or equal to\n",
    "\n",
    "* Tests using \"and\" and \"or\" operators\n",
    "\n",
    "* Test whether an item is in a list\n",
    "\n",
    "* Test whether an item is not in a list"
   ]
  },
  {
   "cell_type": "code",
   "execution_count": 10,
   "metadata": {
    "id": "ZuzFar-xkdqp"
   },
   "outputs": [
    {
     "name": "stdout",
     "output_type": "stream",
     "text": [
      "Is animal1 equal to animal2? I predict False.\n",
      "False\n",
      "\n",
      "Is color1 equal to color2? I predict True.\n",
      "True\n",
      "\n",
      "Is text1 equal to text2 (case-insensitive)? I predict True.\n",
      "True\n",
      "\n",
      "Is number1 greater than number2? I predict False.\n",
      "False\n",
      "\n",
      "Is number1 less than or equal to number2? I predict True.\n",
      "True\n",
      "\n",
      "Is it sunny and warm outside? I predict True.\n",
      "True\n",
      "\n",
      "Is it raining or cold outside? I predict True.\n",
      "True\n",
      "\n",
      "Is 'grape' in the list of fruits? I predict False.\n",
      "False\n",
      "\n",
      "Is 'Toyota' not in the list of cars? I predict False.\n",
      "False\n"
     ]
    }
   ],
   "source": [
    "# Tests for equality and inequality with strings\n",
    "animal1 = 'dog'\n",
    "animal2 = 'cat'\n",
    "print(\"Is animal1 equal to animal2? I predict False.\")\n",
    "print(animal1 == animal2)\n",
    "\n",
    "color1 = 'Blue'\n",
    "color2 = 'Blue'\n",
    "print(\"\\nIs color1 equal to color2? I predict True.\")\n",
    "print(color1 == color2)\n",
    "\n",
    "# Tests using the lower case function\n",
    "text1 = 'PYTHON'\n",
    "text2 = 'python'\n",
    "print(\"\\nIs text1 equal to text2 (case-insensitive)? I predict True.\")\n",
    "print(text1.lower() == text2.lower())\n",
    "\n",
    "# Numerical tests\n",
    "number1 = 10\n",
    "number2 = 20\n",
    "print(\"\\nIs number1 greater than number2? I predict False.\")\n",
    "print(number1 > number2)\n",
    "\n",
    "print(\"\\nIs number1 less than or equal to number2? I predict True.\")\n",
    "print(number1 <= number2)\n",
    "\n",
    "# Tests using \"and\" and \"or\" operators\n",
    "is_sunny = True\n",
    "is_warm = True\n",
    "print(\"\\nIs it sunny and warm outside? I predict True.\")\n",
    "print(is_sunny and is_warm)\n",
    "\n",
    "is_raining = False\n",
    "is_cold = True\n",
    "print(\"\\nIs it raining or cold outside? I predict True.\")\n",
    "print(is_raining or is_cold)\n",
    "\n",
    "# Test whether an item is in a list\n",
    "fruits = ['apple', 'banana', 'cherry', 'orange']\n",
    "print(\"\\nIs 'grape' in the list of fruits? I predict False.\")\n",
    "print('grape' in fruits)\n",
    "\n",
    "# Test whether an item is not in a list\n",
    "cars = ['Ford', 'Toyota', 'Honda']\n",
    "print(\"\\nIs 'Toyota' not in the list of cars? I predict False.\")\n",
    "print('Toyota' not in cars)\n"
   ]
  },
  {
   "cell_type": "markdown",
   "metadata": {
    "id": "-ERrZopbkdqp"
   },
   "source": [
    "### Task9:\n",
    "Hello Admin: Make a list of five or more usernames, including the name 'admin'. Imagine you are writing code that will print a greeting to each user after they log in to a website. Loop through the list, and print a greeting to each user:\n",
    "* If the username is 'admin', print a special greeting, such as Hello admin, would you like to see a status report?\n",
    "\n",
    "* Otherwise, print a generic greeting, such as Hello Eric, thank you for logging in again.    "
   ]
  },
  {
   "cell_type": "code",
   "execution_count": 11,
   "metadata": {
    "id": "z51Cc92qkdqp"
   },
   "outputs": [
    {
     "name": "stdout",
     "output_type": "stream",
     "text": [
      "Hello admin, would you like to see a status report?\n",
      "Hello eric, thank you for logging in again.\n",
      "Hello alice, thank you for logging in again.\n",
      "Hello bob, thank you for logging in again.\n",
      "Hello jane, thank you for logging in again.\n"
     ]
    }
   ],
   "source": [
    "# List of usernames\n",
    "usernames = ['admin', 'eric', 'alice', 'bob', 'jane']\n",
    "\n",
    "# Loop through the list and print greetings\n",
    "for username in usernames:\n",
    "    if username == 'admin':\n",
    "        print(f\"Hello {username}, would you like to see a status report?\")\n",
    "    else:\n",
    "        print(f\"Hello {username}, thank you for logging in again.\")"
   ]
  },
  {
   "cell_type": "markdown",
   "metadata": {
    "id": "tCNLZNHikdqp"
   },
   "source": [
    "### Task10:\n",
    "Checking Usernames: Do the following to create a program that simulates how websites ensure that everyone has a unique username.\n",
    "* Make a list of five or more usernames called current_users.\n",
    "\n",
    "* Make another list of five usernames called new_users. Make sure one or two of the new usernames are also in the current_users list.\n",
    "\n",
    "* Loop through the new_users list to see if each new username has already been used. If it has, print a message that the person will need to enter a new username. If a username has not been used, print a message saying that the username is available.\n",
    "\n",
    "* Make sure your comparison is case insensitive. If 'John' has been used, 'JOHN' should not be accepted.    "
   ]
  },
  {
   "cell_type": "code",
   "execution_count": 13,
   "metadata": {
    "id": "c47GTO1Tkdqp"
   },
   "outputs": [
    {
     "name": "stdout",
     "output_type": "stream",
     "text": [
      "Sorry, the username 'eve' is already taken. Please choose a different username.\n",
      "The username 'Frank' is available.\n",
      "Sorry, the username 'Alice' is already taken. Please choose a different username.\n",
      "The username 'Grace' is available.\n",
      "The username 'David' is available.\n"
     ]
    }
   ],
   "source": [
    "# Step 1: Create a list of current users and new users\n",
    "current_users = [\"John\", \"Alice\", \"Bob\", \"Eve\", \"Charlie\"]\n",
    "new_users = [\"eve\", \"Frank\", \"Alice\", \"Grace\", \"David\"]\n",
    "\n",
    "# Step 2: Convert current_users to lowercase for case-insensitive comparison\n",
    "current_users_lower = [user.lower() for user in current_users]\n",
    "\n",
    "# Step 3: Loop through new_users to check if the username is available\n",
    "for new_user in new_users:\n",
    "    # Convert the new_user to lowercase for case-insensitive comparison\n",
    "    new_user_lower = new_user.lower()\n",
    "    \n",
    "    # Check if the username is in current_users (case-insensitive)\n",
    "    if new_user_lower in current_users_lower:\n",
    "        print(f\"Sorry, the username '{new_user}' is already taken. Please choose a different username.\")\n",
    "    else:\n",
    "        print(f\"The username '{new_user}' is available.\")\n",
    "\n",
    "# Output will indicate which usernames are available and which are already taken.\n",
    "\n",
    "\n",
    "\n",
    "\n",
    "\n"
   ]
  },
  {
   "cell_type": "markdown",
   "metadata": {
    "id": "yKlriswzkdqp"
   },
   "source": [
    "### Task11:\n",
    "Ordinal Numbers: Ordinal numbers indicate their position in a array, such as 1st or 2nd. Most ordinal numbers end in th, except 1, 2, and 3.\n",
    "* Store the numbers 1 through 9 in a array.\n",
    "\n",
    "* Loop through the array.\n",
    "\n",
    "* Use an if-else chain inside the loop to print the proper ordinal ending for each number. Your output should read \"1st 2nd 3rd 4th 5th 6th 7th 8th 9th\", and each result should be on a separate line.\n",
    "\n"
   ]
  },
  {
   "cell_type": "code",
   "execution_count": 14,
   "metadata": {
    "id": "GcJifmTtkdqp"
   },
   "outputs": [
    {
     "name": "stdout",
     "output_type": "stream",
     "text": [
      "1st\n",
      "2nd\n",
      "3rd\n",
      "4th\n",
      "5th\n",
      "6th\n",
      "7th\n",
      "8th\n",
      "9th\n"
     ]
    }
   ],
   "source": [
    "# Store the numbers 1 through 9 in an array\n",
    "numbers = [1, 2, 3, 4, 5, 6, 7, 8, 9]\n",
    "\n",
    "# Loop through the array\n",
    "for number in numbers:\n",
    "    # Use an if-else chain to determine the proper ordinal ending\n",
    "    if number == 1:\n",
    "        ordinal = \"st\"\n",
    "    elif number == 2:\n",
    "        ordinal = \"nd\"\n",
    "    elif number == 3:\n",
    "        ordinal = \"rd\"\n",
    "    else:\n",
    "        ordinal = \"th\"\n",
    "    \n",
    "    # Print the result with the appropriate ordinal ending\n",
    "    print(f\"{number}{ordinal}\")"
   ]
  },
  {
   "cell_type": "markdown",
   "metadata": {
    "id": "Z-i9D_T9kdqp"
   },
   "source": [
    "### Task12:\n",
    "Animals: Think of at least three different animals that have a common characteristic. Store the names of these animals in a list, and then use a for loop to print out the name of each animal.\n",
    "* Modify your program to print a statement about each animal, such as A dog would make a great pet.\n",
    "* Add a line at the end of your program stating what these animals have in common. You could print a sentence such as Any of these animals would make a great pet!"
   ]
  },
  {
   "cell_type": "code",
   "execution_count": 15,
   "metadata": {
    "id": "M8cyBU3bkdqp"
   },
   "outputs": [
    {
     "name": "stdout",
     "output_type": "stream",
     "text": [
      "A Dog would make a great pet.\n",
      "A Cat can be a loving companion.\n",
      "Rabbits are known for their adorable hopping.\n"
     ]
    }
   ],
   "source": [
    "# Define a list of animals with a common characteristic\n",
    "animals = [\"Dog\", \"Cat\", \"Rabbit\"]\n",
    "\n",
    "# Use a for loop to print the name and a statement about each animal\n",
    "for animal in animals:\n",
    "    if animal == \"Dog\":\n",
    "        print(f\"A {animal} would make a great pet.\")\n",
    "    elif animal == \"Cat\":\n",
    "        print(f\"A {animal} can be a loving companion.\")\n",
    "    elif animal == \"Rabbit\":\n",
    "        print(f\"{animal}s are known for their adorable hopping.\")"
   ]
  },
  {
   "cell_type": "markdown",
   "metadata": {
    "id": "hBKGoH_Nkdqp"
   },
   "source": [
    "### Task13:\n",
    "City Names: Write a function called `city_country()` that takes in the name of a city and its country. The function should return a string formatted like this:\n",
    "\n",
    "`\"Lahore, Pakistan\"`<br><br>\n",
    "Call your function with at least three city-country pairs, and print the value that’s returned."
   ]
  },
  {
   "cell_type": "code",
   "execution_count": 16,
   "metadata": {
    "id": "wsMmQqslkdqp"
   },
   "outputs": [
    {
     "name": "stdout",
     "output_type": "stream",
     "text": [
      "Lahore, Pakistan\n",
      "New York, USA\n",
      "Paris, France\n"
     ]
    }
   ],
   "source": [
    "def city_country(city, country):\n",
    "    formatted_string = f\"{city}, {country}\"\n",
    "    return formatted_string\n",
    "\n",
    "# Call the function with at least three city-country pairs\n",
    "pair1 = city_country(\"Lahore\", \"Pakistan\")\n",
    "pair2 = city_country(\"New York\", \"USA\")\n",
    "pair3 = city_country(\"Paris\", \"France\")\n",
    "\n",
    "# Print the values returned by the function\n",
    "print(pair1)\n",
    "print(pair2)\n",
    "print(pair3)"
   ]
  },
  {
   "cell_type": "markdown",
   "metadata": {
    "id": "2b0keHKFkdqp"
   },
   "source": [
    "### Task14:\n",
    "Write a function called `make_tshirt()` where you can provide `size` and `custome_text`. The function should print a sentence summarizing the size of the shirt and the message printed on it. Call the function."
   ]
  },
  {
   "cell_type": "code",
   "execution_count": 17,
   "metadata": {
    "id": "jK4NRvjIkdqp"
   },
   "outputs": [
    {
     "name": "stdout",
     "output_type": "stream",
     "text": [
      "You have ordered a Large-sized t-shirt with the message: 'I love Python!'\n"
     ]
    }
   ],
   "source": [
    "def make_tshirt(size, custom_text):\n",
    "    print(f\"You have ordered a {size}-sized t-shirt with the message: '{custom_text}'\")\n",
    "\n",
    "# Call the function with your desired size and custom text\n",
    "make_tshirt(\"Large\", \"I love Python!\")"
   ]
  },
  {
   "cell_type": "markdown",
   "metadata": {
    "id": "0V3zOAyfkdqp"
   },
   "source": [
    "### Task15:\n",
    "Write a function called `describe_city()` that accepts the name of a `city` and its `country`. The function should print a simple sentence, such as `Karachi is in Pakistan`. Give the parameter for the country a default value. Call your function for three different cities, at least one of which is not in the default country."
   ]
  },
  {
   "cell_type": "code",
   "execution_count": 18,
   "metadata": {
    "id": "nm3eU-Wskdqp"
   },
   "outputs": [
    {
     "name": "stdout",
     "output_type": "stream",
     "text": [
      "Karachi is in Pakistan\n",
      "New York is in USA\n",
      "London is in United Kingdom\n"
     ]
    }
   ],
   "source": [
    "def describe_city(city, country=\"Pakistan\"):\n",
    "    print(f\"{city} is in {country}\")\n",
    "\n",
    "# Call the function for three different cities, including one not in the default country\n",
    "describe_city(\"Karachi\")\n",
    "describe_city(\"New York\", \"USA\")\n",
    "describe_city(\"London\", \"United Kingdom\")"
   ]
  },
  {
   "cell_type": "markdown",
   "metadata": {
    "id": "GOYrKfKvkdqp"
   },
   "source": [
    "<hr>"
   ]
  },
  {
   "cell_type": "markdown",
   "metadata": {
    "id": "BHLnWmFGkdqq"
   },
   "source": [
    "# Theory Section"
   ]
  },
  {
   "cell_type": "markdown",
   "metadata": {
    "id": "vbplZrcgkdqq"
   },
   "source": [
    "# 16. Define functions and function types in python?"
   ]
  },
  {
   "cell_type": "code",
   "execution_count": null,
   "metadata": {
    "id": "Of3Kfy9Okdqq"
   },
   "outputs": [],
   "source": [
    "In Python, a function is a reusable block of code that performs a specific task or set of tasks. Functions allow you to organize your code into smaller, more manageable pieces, which can be called and executed whenever needed. \n",
    "Functions are a fundamental concept in programming, \n",
    "and Python provides several types of functions and ways to define them:\n",
    "\n",
    "Built-in Functions: Python comes with a set of built-in functions that are available for use without needing to define them. Examples include print(), len(), input(), and many others.\n",
    "\n",
    "User-Defined Functions: These are functions that you define yourself to perform specific tasks. A user-defined function consists of a function definition and can be called as needed. Here's the basic structure of a user-defined function:"
   ]
  },
  {
   "cell_type": "markdown",
   "metadata": {
    "id": "iwBdO157kdqq"
   },
   "source": [
    "# 17. Define loop and it types in python?"
   ]
  },
  {
   "cell_type": "code",
   "execution_count": null,
   "metadata": {
    "id": "Prw6fvh5kdqq"
   },
   "outputs": [],
   "source": [
    "# LOOPS:\n",
    "# ------\n",
    "# A loop is an instruction that repeats multiple times as long as some condition is met.\n",
    "\n",
    "# Types of loops:\n",
    "# ---------------\n",
    "# While Loop. \n",
    "# Nested Loop."
   ]
  },
  {
   "cell_type": "markdown",
   "metadata": {
    "id": "1N_KslG8kdqq"
   },
   "source": [
    "# 18. Define Error types and how we can handle run time errors?"
   ]
  },
  {
   "cell_type": "code",
   "execution_count": null,
   "metadata": {
    "id": "LwMApoYWkdqq"
   },
   "outputs": [],
   "source": [
    "# Errors are the problems in a program due to which the program will stop the execution. \n",
    "  On the other hand, exceptions are raised when some internal events occur which changes the normal flow of the program. \n",
    "\n",
    "# Two types of Error occurs in python.\n",
    "#   1. Syntax errors. \n",
    "#   2. Logical errors (Exceptions)\n",
    "\n",
    "# HOW WE CAN HANDLE RUN TIME ERRORS:\n",
    "#    => Identify the error message and note the specific problem being reported.\n",
    "#    => Check the code for logical, mathematical or typographical errors.\n",
    "#    => Ensure all identifiers are defined properly before being used.\n",
    "#    => Make sure the correct data types are being used and are being used correctly."
   ]
  },
  {
   "cell_type": "markdown",
   "metadata": {
    "id": "5u-YAz4mkdqq"
   },
   "source": [
    "# 19. Define four pillars of Object Oriented Programming?"
   ]
  },
  {
   "cell_type": "code",
   "execution_count": null,
   "metadata": {
    "id": "6Ea3NOT4kdqq"
   },
   "outputs": [],
   "source": [
    "Object-oriented programming (OOP) is a programming paradigm that uses objects, which are instances of classes, to design and structure software. There are four fundamental pillars or principles of OOP:\n",
    "\n",
    "Encapsulation:\n",
    "\n",
    "Encapsulation refers to the bundling of data (attributes or properties) and methods (functions or procedures) that operate on that data into a single unit called a class.\n",
    "It enforces access control, which means that the internal state of an object can only be modified through defined methods, and the data is hidden from the outside world.\n",
    "This helps in achieving data integrity and reduces the risk of unintended interference with the object's internal state.\n",
    "Inheritance:\n",
    "\n",
    "Inheritance is a mechanism that allows a new class (subclass or derived class) to inherit properties and behaviors (attributes and methods) from an existing class (base class or superclass).\n",
    "It promotes code reusability and the creation of hierarchical relationships between classes.\n",
    "Subclasses can extend or override the functionality of their parent classes, adding or modifying behaviors as needed.\n",
    "Abstraction:\n",
    "\n",
    "Abstraction involves simplifying complex reality by modeling classes based on the essential attributes and behaviors relevant to the problem domain.\n",
    "It allows you to focus on what an object does rather than how it does it.\n",
    "Abstract classes and interfaces are used to define a blueprint for classes, specifying the methods that must be implemented by concrete (derived) classes.\n",
    "Polymorphism:\n",
    "\n",
    "Polymorphism means \"many shapes\" and refers to the ability of different classes to be treated as instances of a common superclass.\n",
    "It enables you to write code that can work with objects of multiple classes in a unified way.\n",
    "Polymorphism is often achieved through method overriding (where a subclass provides a specific implementation of a method defined in its superclass) and method overloading (where multiple methods with the same name exist in a class, but they differ in terms of parameters or types).\n",
    "These four pillars of OOP help software developers create modular, maintainable, and extensible code by promoting concepts such as reusability, modularity, and separation of concerns."
   ]
  },
  {
   "cell_type": "markdown",
   "metadata": {
    "id": "OmiTc2Ipkdqq"
   },
   "source": [
    "# 20. You can write about how you can use python in professional life. If you used python in your Office to solve any real-world probem."
   ]
  },
  {
   "cell_type": "code",
   "execution_count": null,
   "metadata": {
    "id": "fGle3ja2kdqq"
   },
   "outputs": [],
   "source": [
    "Python is a versatile and widely-used programming language in various industries and domains. Here are some examples of how Python can be used in a professional context:\n",
    "\n",
    "Data Analysis and Visualization:\n",
    "\n",
    "Data analysts and data scientists often use Python with libraries like Pandas, NumPy, and Matplotlib to analyze and visualize data. Python's data manipulation capabilities make it a powerful tool for exploring and making sense of large datasets.\n",
    "Machine Learning and Artificial Intelligence:\n",
    "\n",
    "Python is the go-to language for developing machine learning models and AI applications. Libraries like TensorFlow and PyTorch provide powerful tools for building and training models for tasks such as image recognition, natural language processing, and predictive analytics.\n",
    "Web Development:\n",
    "\n",
    "Python can be used for web development using frameworks like Django and Flask. Developers use Python to build web applications, REST APIs, and websites. Python's simplicity and readability make it a popular choice for web development.\n",
    "Automation:\n",
    "\n",
    "Python is excellent for automating repetitive tasks. Professionals in various fields use Python scripts to automate data processing, file management, and other routine tasks, which can save a significant amount of time.\n",
    "Scientific Computing:\n",
    "\n",
    "Scientists and researchers use Python for scientific computing and simulations. Libraries like SciPy and SymPy are essential tools for solving complex mathematical and scientific problems.\n",
    "Finance and Trading:\n",
    "\n",
    "Python is widely used in the finance industry for tasks such as risk analysis, portfolio management, and algorithmic trading. Libraries like QuantLib and Pandas are used for financial modeling and analysis.\n",
    "Data Engineering:\n",
    "\n",
    "Python is used in data engineering to develop ETL (Extract, Transform, Load) processes, data pipelines, and data integration solutions. Tools like Apache Airflow help manage and schedule data workflows.\n",
    "Cybersecurity:\n",
    "\n",
    "Security professionals use Python for tasks such as network scanning, vulnerability assessment, and penetration testing. Python's extensive library support makes it valuable in the field of cybersecurity.\n",
    "Natural Language Processing (NLP):\n",
    "\n",
    "Python is commonly used for NLP tasks, such as sentiment analysis, chatbots, and language translation. Libraries like NLTK and spaCy provide robust NLP capabilities.\n",
    "GIS and Mapping:\n",
    "\n",
    "Geographic Information Systems (GIS) professionals use Python for geospatial data analysis, mapping, and visualization. Libraries like Geopandas and Folium are popular choices for these tasks.\n",
    "These are just a few examples of how Python is used in a professional setting to solve real-world problems. Its simplicity, extensive library support, and a strong community of users make it a versatile and powerful tool for a wide range of applications across various industries."
   ]
  }
 ],
 "metadata": {
  "colab": {
   "provenance": []
  },
  "kernelspec": {
   "display_name": "Python 3 (ipykernel)",
   "language": "python",
   "name": "python3"
  },
  "language_info": {
   "codemirror_mode": {
    "name": "ipython",
    "version": 3
   },
   "file_extension": ".py",
   "mimetype": "text/x-python",
   "name": "python",
   "nbconvert_exporter": "python",
   "pygments_lexer": "ipython3",
   "version": "3.11.4"
  }
 },
 "nbformat": 4,
 "nbformat_minor": 1
}
